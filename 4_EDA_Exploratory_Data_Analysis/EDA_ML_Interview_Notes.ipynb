{
 "cells": [
  {
   "cell_type": "markdown",
   "metadata": {},
   "source": [
    "# 📘 EDA & ML Interview Notes with Examples\n",
    "This notebook contains important EDA and ML concepts in markdown format for easy review."
   ]
  },
  {
   "cell_type": "markdown",
   "metadata": {},
   "source": [
    "## 🎤 EDA Interview Questions & Answers"
   ]
  },
  {
   "cell_type": "markdown",
   "metadata": {},
   "source": [
    "### Q1. What is EDA and why is it important?\n",
    "EDA helps understand the dataset, detect anomalies, and prepare data for ML by summarizing and visualizing features.\n",
    "\n",
    "**Example Table:**\n",
    "\n",
    "| ID | Age | Gender | Income | Purchased |\n",
    "|----|-----|--------|--------|-----------|\n",
    "| 1  | 25  | Male   | 50000  | Yes       |\n",
    "| 2  | 30  | Female | 60000  | No        |\n",
    "| 3  | NaN | Male   | NaN    | Yes       |"
   ]
  },
  {
   "cell_type": "markdown",
   "metadata": {},
   "source": [
    "### Q2. How do you handle missing values in a dataset?\n",
    "- For numerical: mean, median\n",
    "- For categorical: mode\n",
    "- Can also delete rows or use advanced imputation\n",
    "\n",
    "**Example:**\n",
    "\n",
    "| ID | Age  | Income | Strategy         |\n",
    "|----|------|--------|------------------|\n",
    "| 1  | 25   | 50000  | Original         |\n",
    "| 2  | 30   | 60000  | Original         |\n",
    "| 3  | 27.5 | 55000  | Filled with mean |"
   ]
  },
  {
   "cell_type": "markdown",
   "metadata": {},
   "source": [
    "### Q3. Difference between univariate and bivariate analysis\n",
    "\n",
    "Answer:\n",
    "\n",
    "**Univariate** → analyze 1 variable (e.g., Age)\n",
    "\n",
    "**Bivariate** → analyze 2 variables together (e.g., Age vs Income)\n",
    "\n",
    "\n",
    "**Univariate Example:**\n",
    "\n",
    "| Age | Count |\n",
    "|-----|-------|\n",
    "| 25  | 2     |\n",
    "| 30  | 1     |\n",
    "| 35  | 1     |\n",
    "\n",
    "**Bivariate Example:**\n",
    "\n",
    "| Age | Income |\n",
    "|-----|--------|\n",
    "| 25  | 50000  |\n",
    "| 30  | 60000  |\n",
    "| 35  | 70000  |"
   ]
  },
  {
   "cell_type": "markdown",
   "metadata": {},
   "source": [
    "### Q4. How to detect outliers?\n",
    "Answer:\n",
    "Use boxplot, IQR, or Z-score methods.\n",
    "\n",
    "**Example:** Using IQR:\n",
    "\n",
    "| Age | Is Outlier? |\n",
    "|-----|-------------|\n",
    "| 25  | No          |\n",
    "| 30  | No          |\n",
    "| 80  | **Yes**     |\n",
    "\n",
    "(80 is beyond Q3 + 1.5×IQR → Outlier)"
   ]
  },
  {
   "cell_type": "markdown",
   "metadata": {},
   "source": [
    "### Q5. Variable Transformation\n",
    "Answer:\n",
    "Used to normalize, scale, or encode data before modeling.\n",
    "\n",
    "\n",
    "**Scaling and Encoding Examples**\n",
    "\n",
    "**MinMax Scaling:**\n",
    "\n",
    "| Original Age | Scaled Age |\n",
    "|--------------|-------------|\n",
    "| 20           | 0.0         |\n",
    "| 40           | 0.5         |\n",
    "| 60           | 1.0         |\n",
    "\n",
    "**Label Encoding:**\n",
    "\n",
    "| Gender | Encoded |\n",
    "|--------|---------|\n",
    "| Male   | 0       |\n",
    "| Female | 1       |"
   ]
  },
  {
   "cell_type": "markdown",
   "metadata": {},
   "source": [
    "## 🤖 Machine Learning Interview Questions & Answers"
   ]
  },
  {
   "cell_type": "markdown",
   "metadata": {},
   "source": [
    "### Q6. Categories of ML Problems\n",
    "\n",
    "| Category      | Target Type  | Example Use Case         |\n",
    "|---------------|--------------|--------------------------|\n",
    "| Regression    | Continuous   | Predict house price      |\n",
    "| Classification| Categorical  | Spam email detection     |\n",
    "| Clustering    | No target    | Customer segmentation    |"
   ]
  },
  {
   "cell_type": "markdown",
   "metadata": {},
   "source": [
    "### Q7. Regression vs Classification\n",
    "Answer:\n",
    "Depends on target (Y):\n",
    "\n",
    "\n",
    "| Target (Y)         | Task Type     | Example       |\n",
    "|--------------------|---------------|---------------|\n",
    "| Price (e.g., $400) | Regression    | House pricing |\n",
    "| Purchased (Yes/No) | Classification| Buy decision  |"
   ]
  },
  {
   "cell_type": "markdown",
   "metadata": {},
   "source": [
    "### Q8. Overfitting and How to Prevent It\n",
    "Answer:\n",
    "Model performs well on training but poorly on test data.\n",
    "\n",
    "\n",
    "| Technique        | Purpose                          |\n",
    "|------------------|----------------------------------|\n",
    "| Cross-validation | Checks performance on new data   |\n",
    "| Regularization   | Penalizes model complexity       |\n",
    "| Pruning (trees)  | Reduces over-complex branches    |"
   ]
  },
  {
   "cell_type": "markdown",
   "metadata": {},
   "source": [
    "### Q9. Regularization Techniques\n",
    "\n",
    "| Technique     | Description                        |\n",
    "|---------------|------------------------------------|\n",
    "| Lasso (L1)    | Shrinks some coefficients to 0     |\n",
    "| Ridge (L2)    | Penalizes large coefficients       |\n",
    "| Elastic Net   | Mix of L1 and L2                   |"
   ]
  },
  {
   "cell_type": "markdown",
   "metadata": {},
   "source": [
    "### Q10. KNN Regression vs Classification\n",
    "\n",
    "| Feature               | KNN Classification         | KNN Regression             |\n",
    "|------------------------|----------------------------|----------------------------|\n",
    "| Target Type           | Categorical                | Numerical                  |\n",
    "| Output                | Majority class of neighbors| Average of neighbor values |\n",
    "| Use Case              | Spam detection             | House price estimation     |"
   ]
  }
 ],
 "metadata": {
  "kernelspec": {
   "display_name": "Python 3",
   "language": "python",
   "name": "python3"
  },
  "language_info": {
   "name": "python",
   "version": "3.8"
  }
 },
 "nbformat": 4,
 "nbformat_minor": 2
}
